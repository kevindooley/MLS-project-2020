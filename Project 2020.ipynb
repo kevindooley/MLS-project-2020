{
 "cells": [
  {
   "cell_type": "markdown",
   "metadata": {},
   "source": [
    "# Machine Learning & Statistics Project 2020\n",
    "By Kevin Dooley"
   ]
  },
  {
   "cell_type": "code",
   "execution_count": 1,
   "metadata": {},
   "outputs": [],
   "source": [
    "## import packages\n",
    "\n",
    "import numpy as np\n",
    "import pandas as pd\n",
    "import matplotlib.pyplot as plt\n",
    "import seaborn as sns\n",
    "import sklearn.linear_model as lm"
   ]
  },
  {
   "cell_type": "markdown",
   "metadata": {},
   "source": [
    "#### Load Dataset\n",
    "To be able to give an overview of the dataset, I had to first obtain it. Copied and saved the dataset from Moodle as a CSV file in my repository. This was saved as powerproduction.csv and was the basis of the project."
   ]
  },
  {
   "cell_type": "code",
   "execution_count": 2,
   "metadata": {},
   "outputs": [
    {
     "data": {
      "text/html": [
       "<div>\n",
       "<style scoped>\n",
       "    .dataframe tbody tr th:only-of-type {\n",
       "        vertical-align: middle;\n",
       "    }\n",
       "\n",
       "    .dataframe tbody tr th {\n",
       "        vertical-align: top;\n",
       "    }\n",
       "\n",
       "    .dataframe thead th {\n",
       "        text-align: right;\n",
       "    }\n",
       "</style>\n",
       "<table border=\"1\" class=\"dataframe\">\n",
       "  <thead>\n",
       "    <tr style=\"text-align: right;\">\n",
       "      <th></th>\n",
       "      <th>speed</th>\n",
       "      <th>power</th>\n",
       "    </tr>\n",
       "  </thead>\n",
       "  <tbody>\n",
       "    <tr>\n",
       "      <th>0</th>\n",
       "      <td>0.000</td>\n",
       "      <td>0.0</td>\n",
       "    </tr>\n",
       "    <tr>\n",
       "      <th>1</th>\n",
       "      <td>0.125</td>\n",
       "      <td>0.0</td>\n",
       "    </tr>\n",
       "    <tr>\n",
       "      <th>2</th>\n",
       "      <td>0.150</td>\n",
       "      <td>0.0</td>\n",
       "    </tr>\n",
       "    <tr>\n",
       "      <th>3</th>\n",
       "      <td>0.225</td>\n",
       "      <td>0.0</td>\n",
       "    </tr>\n",
       "    <tr>\n",
       "      <th>4</th>\n",
       "      <td>0.275</td>\n",
       "      <td>0.0</td>\n",
       "    </tr>\n",
       "    <tr>\n",
       "      <th>...</th>\n",
       "      <td>...</td>\n",
       "      <td>...</td>\n",
       "    </tr>\n",
       "    <tr>\n",
       "      <th>495</th>\n",
       "      <td>24.775</td>\n",
       "      <td>0.0</td>\n",
       "    </tr>\n",
       "    <tr>\n",
       "      <th>496</th>\n",
       "      <td>24.850</td>\n",
       "      <td>0.0</td>\n",
       "    </tr>\n",
       "    <tr>\n",
       "      <th>497</th>\n",
       "      <td>24.875</td>\n",
       "      <td>0.0</td>\n",
       "    </tr>\n",
       "    <tr>\n",
       "      <th>498</th>\n",
       "      <td>24.950</td>\n",
       "      <td>0.0</td>\n",
       "    </tr>\n",
       "    <tr>\n",
       "      <th>499</th>\n",
       "      <td>25.000</td>\n",
       "      <td>0.0</td>\n",
       "    </tr>\n",
       "  </tbody>\n",
       "</table>\n",
       "<p>500 rows × 2 columns</p>\n",
       "</div>"
      ],
      "text/plain": [
       "      speed  power\n",
       "0     0.000    0.0\n",
       "1     0.125    0.0\n",
       "2     0.150    0.0\n",
       "3     0.225    0.0\n",
       "4     0.275    0.0\n",
       "..      ...    ...\n",
       "495  24.775    0.0\n",
       "496  24.850    0.0\n",
       "497  24.875    0.0\n",
       "498  24.950    0.0\n",
       "499  25.000    0.0\n",
       "\n",
       "[500 rows x 2 columns]"
      ]
     },
     "execution_count": 2,
     "metadata": {},
     "output_type": "execute_result"
    }
   ],
   "source": [
    "df = pd.read_csv(\"powerproduction.csv\") #read the csv file using pandas\n",
    "df # called the dataset df"
   ]
  },
  {
   "cell_type": "code",
   "execution_count": 3,
   "metadata": {},
   "outputs": [
    {
     "name": "stdout",
     "output_type": "stream",
     "text": [
      "Rows x Columns: (500, 2)\n"
     ]
    }
   ],
   "source": [
    "print(\"Rows x Columns:\", df.shape)"
   ]
  },
  {
   "cell_type": "markdown",
   "metadata": {},
   "source": [
    "The powerproduction.csv has two variables: speed and power. There are also 500 rows in the dataset."
   ]
  },
  {
   "cell_type": "code",
   "execution_count": 4,
   "metadata": {},
   "outputs": [
    {
     "data": {
      "text/html": [
       "<div>\n",
       "<style scoped>\n",
       "    .dataframe tbody tr th:only-of-type {\n",
       "        vertical-align: middle;\n",
       "    }\n",
       "\n",
       "    .dataframe tbody tr th {\n",
       "        vertical-align: top;\n",
       "    }\n",
       "\n",
       "    .dataframe thead th {\n",
       "        text-align: right;\n",
       "    }\n",
       "</style>\n",
       "<table border=\"1\" class=\"dataframe\">\n",
       "  <thead>\n",
       "    <tr style=\"text-align: right;\">\n",
       "      <th></th>\n",
       "      <th>speed</th>\n",
       "      <th>power</th>\n",
       "    </tr>\n",
       "  </thead>\n",
       "  <tbody>\n",
       "    <tr>\n",
       "      <th>0</th>\n",
       "      <td>0.000</td>\n",
       "      <td>0.0</td>\n",
       "    </tr>\n",
       "    <tr>\n",
       "      <th>1</th>\n",
       "      <td>0.125</td>\n",
       "      <td>0.0</td>\n",
       "    </tr>\n",
       "    <tr>\n",
       "      <th>2</th>\n",
       "      <td>0.150</td>\n",
       "      <td>0.0</td>\n",
       "    </tr>\n",
       "    <tr>\n",
       "      <th>3</th>\n",
       "      <td>0.225</td>\n",
       "      <td>0.0</td>\n",
       "    </tr>\n",
       "    <tr>\n",
       "      <th>4</th>\n",
       "      <td>0.275</td>\n",
       "      <td>0.0</td>\n",
       "    </tr>\n",
       "  </tbody>\n",
       "</table>\n",
       "</div>"
      ],
      "text/plain": [
       "   speed  power\n",
       "0  0.000    0.0\n",
       "1  0.125    0.0\n",
       "2  0.150    0.0\n",
       "3  0.225    0.0\n",
       "4  0.275    0.0"
      ]
     },
     "execution_count": 4,
     "metadata": {},
     "output_type": "execute_result"
    }
   ],
   "source": [
    "# glance at data - show first 5 rows\n",
    "df.head()\n"
   ]
  },
  {
   "cell_type": "code",
   "execution_count": 5,
   "metadata": {},
   "outputs": [
    {
     "data": {
      "text/html": [
       "<div>\n",
       "<style scoped>\n",
       "    .dataframe tbody tr th:only-of-type {\n",
       "        vertical-align: middle;\n",
       "    }\n",
       "\n",
       "    .dataframe tbody tr th {\n",
       "        vertical-align: top;\n",
       "    }\n",
       "\n",
       "    .dataframe thead th {\n",
       "        text-align: right;\n",
       "    }\n",
       "</style>\n",
       "<table border=\"1\" class=\"dataframe\">\n",
       "  <thead>\n",
       "    <tr style=\"text-align: right;\">\n",
       "      <th></th>\n",
       "      <th>speed</th>\n",
       "      <th>power</th>\n",
       "    </tr>\n",
       "  </thead>\n",
       "  <tbody>\n",
       "    <tr>\n",
       "      <th>495</th>\n",
       "      <td>24.775</td>\n",
       "      <td>0.0</td>\n",
       "    </tr>\n",
       "    <tr>\n",
       "      <th>496</th>\n",
       "      <td>24.850</td>\n",
       "      <td>0.0</td>\n",
       "    </tr>\n",
       "    <tr>\n",
       "      <th>497</th>\n",
       "      <td>24.875</td>\n",
       "      <td>0.0</td>\n",
       "    </tr>\n",
       "    <tr>\n",
       "      <th>498</th>\n",
       "      <td>24.950</td>\n",
       "      <td>0.0</td>\n",
       "    </tr>\n",
       "    <tr>\n",
       "      <th>499</th>\n",
       "      <td>25.000</td>\n",
       "      <td>0.0</td>\n",
       "    </tr>\n",
       "  </tbody>\n",
       "</table>\n",
       "</div>"
      ],
      "text/plain": [
       "      speed  power\n",
       "495  24.775    0.0\n",
       "496  24.850    0.0\n",
       "497  24.875    0.0\n",
       "498  24.950    0.0\n",
       "499  25.000    0.0"
      ]
     },
     "execution_count": 5,
     "metadata": {},
     "output_type": "execute_result"
    }
   ],
   "source": [
    "# glance at data - show last 5 rows\n",
    "df.tail()"
   ]
  },
  {
   "cell_type": "code",
   "execution_count": 6,
   "metadata": {},
   "outputs": [
    {
     "data": {
      "text/html": [
       "<div>\n",
       "<style scoped>\n",
       "    .dataframe tbody tr th:only-of-type {\n",
       "        vertical-align: middle;\n",
       "    }\n",
       "\n",
       "    .dataframe tbody tr th {\n",
       "        vertical-align: top;\n",
       "    }\n",
       "\n",
       "    .dataframe thead th {\n",
       "        text-align: right;\n",
       "    }\n",
       "</style>\n",
       "<table border=\"1\" class=\"dataframe\">\n",
       "  <thead>\n",
       "    <tr style=\"text-align: right;\">\n",
       "      <th></th>\n",
       "      <th>speed</th>\n",
       "      <th>power</th>\n",
       "    </tr>\n",
       "  </thead>\n",
       "  <tbody>\n",
       "    <tr>\n",
       "      <th>103</th>\n",
       "      <td>5.455</td>\n",
       "      <td>4.454</td>\n",
       "    </tr>\n",
       "    <tr>\n",
       "      <th>378</th>\n",
       "      <td>18.919</td>\n",
       "      <td>89.047</td>\n",
       "    </tr>\n",
       "    <tr>\n",
       "      <th>404</th>\n",
       "      <td>20.095</td>\n",
       "      <td>0.000</td>\n",
       "    </tr>\n",
       "    <tr>\n",
       "      <th>8</th>\n",
       "      <td>0.501</td>\n",
       "      <td>1.048</td>\n",
       "    </tr>\n",
       "    <tr>\n",
       "      <th>308</th>\n",
       "      <td>15.666</td>\n",
       "      <td>86.288</td>\n",
       "    </tr>\n",
       "    <tr>\n",
       "      <th>15</th>\n",
       "      <td>0.726</td>\n",
       "      <td>0.000</td>\n",
       "    </tr>\n",
       "    <tr>\n",
       "      <th>79</th>\n",
       "      <td>3.979</td>\n",
       "      <td>2.030</td>\n",
       "    </tr>\n",
       "    <tr>\n",
       "      <th>140</th>\n",
       "      <td>7.107</td>\n",
       "      <td>0.000</td>\n",
       "    </tr>\n",
       "    <tr>\n",
       "      <th>382</th>\n",
       "      <td>19.069</td>\n",
       "      <td>100.287</td>\n",
       "    </tr>\n",
       "    <tr>\n",
       "      <th>26</th>\n",
       "      <td>1.076</td>\n",
       "      <td>0.000</td>\n",
       "    </tr>\n",
       "    <tr>\n",
       "      <th>436</th>\n",
       "      <td>22.022</td>\n",
       "      <td>104.516</td>\n",
       "    </tr>\n",
       "    <tr>\n",
       "      <th>158</th>\n",
       "      <td>7.833</td>\n",
       "      <td>11.321</td>\n",
       "    </tr>\n",
       "    <tr>\n",
       "      <th>296</th>\n",
       "      <td>15.165</td>\n",
       "      <td>69.248</td>\n",
       "    </tr>\n",
       "    <tr>\n",
       "      <th>77</th>\n",
       "      <td>3.929</td>\n",
       "      <td>4.415</td>\n",
       "    </tr>\n",
       "    <tr>\n",
       "      <th>446</th>\n",
       "      <td>22.472</td>\n",
       "      <td>103.306</td>\n",
       "    </tr>\n",
       "  </tbody>\n",
       "</table>\n",
       "</div>"
      ],
      "text/plain": [
       "      speed    power\n",
       "103   5.455    4.454\n",
       "378  18.919   89.047\n",
       "404  20.095    0.000\n",
       "8     0.501    1.048\n",
       "308  15.666   86.288\n",
       "15    0.726    0.000\n",
       "79    3.979    2.030\n",
       "140   7.107    0.000\n",
       "382  19.069  100.287\n",
       "26    1.076    0.000\n",
       "436  22.022  104.516\n",
       "158   7.833   11.321\n",
       "296  15.165   69.248\n",
       "77    3.929    4.415\n",
       "446  22.472  103.306"
      ]
     },
     "execution_count": 6,
     "metadata": {},
     "output_type": "execute_result"
    }
   ],
   "source": [
    "# glance at data - show 15 rows\n",
    "df.sample(15)"
   ]
  },
  {
   "cell_type": "code",
   "execution_count": 7,
   "metadata": {},
   "outputs": [
    {
     "name": "stdout",
     "output_type": "stream",
     "text": [
      "<class 'pandas.core.frame.DataFrame'>\n",
      "RangeIndex: 500 entries, 0 to 499\n",
      "Data columns (total 2 columns):\n",
      " #   Column  Non-Null Count  Dtype  \n",
      "---  ------  --------------  -----  \n",
      " 0   speed   500 non-null    float64\n",
      " 1   power   500 non-null    float64\n",
      "dtypes: float64(2)\n",
      "memory usage: 7.9 KB\n"
     ]
    }
   ],
   "source": [
    "df.info()"
   ]
  },
  {
   "cell_type": "markdown",
   "metadata": {},
   "source": [
    "By using these simple functions it is easy to do a overview comparision for both variables of the dataset. These functions do not really tell us much information but they do familarise us with the dataset. The first observation to make from the above is that there appears to be a power output of 0 when in fact there was substantial windspeed. This will need to be investigated further but you could make a reasonable assumption that there was an issue or downtime during these periods. "
   ]
  },
  {
   "cell_type": "code",
   "execution_count": 8,
   "metadata": {},
   "outputs": [
    {
     "data": {
      "text/html": [
       "<div>\n",
       "<style scoped>\n",
       "    .dataframe tbody tr th:only-of-type {\n",
       "        vertical-align: middle;\n",
       "    }\n",
       "\n",
       "    .dataframe tbody tr th {\n",
       "        vertical-align: top;\n",
       "    }\n",
       "\n",
       "    .dataframe thead th {\n",
       "        text-align: right;\n",
       "    }\n",
       "</style>\n",
       "<table border=\"1\" class=\"dataframe\">\n",
       "  <thead>\n",
       "    <tr style=\"text-align: right;\">\n",
       "      <th></th>\n",
       "      <th>speed</th>\n",
       "      <th>power</th>\n",
       "    </tr>\n",
       "  </thead>\n",
       "  <tbody>\n",
       "    <tr>\n",
       "      <th>count</th>\n",
       "      <td>500.000000</td>\n",
       "      <td>500.000000</td>\n",
       "    </tr>\n",
       "    <tr>\n",
       "      <th>mean</th>\n",
       "      <td>12.590398</td>\n",
       "      <td>48.014584</td>\n",
       "    </tr>\n",
       "    <tr>\n",
       "      <th>std</th>\n",
       "      <td>7.224991</td>\n",
       "      <td>41.614572</td>\n",
       "    </tr>\n",
       "    <tr>\n",
       "      <th>min</th>\n",
       "      <td>0.000000</td>\n",
       "      <td>0.000000</td>\n",
       "    </tr>\n",
       "    <tr>\n",
       "      <th>25%</th>\n",
       "      <td>6.324750</td>\n",
       "      <td>5.288000</td>\n",
       "    </tr>\n",
       "    <tr>\n",
       "      <th>50%</th>\n",
       "      <td>12.550500</td>\n",
       "      <td>41.645500</td>\n",
       "    </tr>\n",
       "    <tr>\n",
       "      <th>75%</th>\n",
       "      <td>18.775250</td>\n",
       "      <td>93.537000</td>\n",
       "    </tr>\n",
       "    <tr>\n",
       "      <th>max</th>\n",
       "      <td>25.000000</td>\n",
       "      <td>113.556000</td>\n",
       "    </tr>\n",
       "  </tbody>\n",
       "</table>\n",
       "</div>"
      ],
      "text/plain": [
       "            speed       power\n",
       "count  500.000000  500.000000\n",
       "mean    12.590398   48.014584\n",
       "std      7.224991   41.614572\n",
       "min      0.000000    0.000000\n",
       "25%      6.324750    5.288000\n",
       "50%     12.550500   41.645500\n",
       "75%     18.775250   93.537000\n",
       "max     25.000000  113.556000"
      ]
     },
     "execution_count": 8,
     "metadata": {},
     "output_type": "execute_result"
    }
   ],
   "source": [
    "#describe function to show statistical summary of the dataset\n",
    "df.describe()"
   ]
  },
  {
   "cell_type": "markdown",
   "metadata": {},
   "source": [
    "The statistical summary above gives us a top level look at the dataset. It can be seen that that the average wind speed is 12.59 and the average power output is 48.01."
   ]
  },
  {
   "cell_type": "markdown",
   "metadata": {},
   "source": [
    "### Plot Dataset"
   ]
  },
  {
   "cell_type": "code",
   "execution_count": 9,
   "metadata": {},
   "outputs": [
    {
     "data": {
      "text/plain": [
       "<seaborn.axisgrid.FacetGrid at 0x290c89666d0>"
      ]
     },
     "execution_count": 9,
     "metadata": {},
     "output_type": "execute_result"
    },
    {
     "data": {
      "image/png": "[encoded data removed]",
      "text/plain": [
       "<Figure size 360x360 with 1 Axes>"
      ]
     },
     "metadata": {},
     "output_type": "display_data"
    }
   ],
   "source": [
    "# https://seaborn.pydata.org/generated/seaborn.relplot.html\n",
    "sns.set_style('whitegrid')\n",
    "sns.relplot(x=\"speed\", y=\"power\",data=df)\n"
   ]
  },
  {
   "cell_type": "code",
   "execution_count": 10,
   "metadata": {},
   "outputs": [
    {
     "data": {
      "text/plain": [
       "Text(0.5, 1.0, 'Wind Speed vs Generated Power ')"
      ]
     },
     "execution_count": 10,
     "metadata": {},
     "output_type": "execute_result"
    },
    {
     "data": {
      "image/png": "[encoded data removed]",
      "text/plain": [
       "<Figure size 432x288 with 1 Axes>"
      ]
     },
     "metadata": {},
     "output_type": "display_data"
    }
   ],
   "source": [
    "sns.set_style('whitegrid') \n",
    "reg = sns.regplot(x=\"speed\", y=\"power\",data=df)\n",
    "reg.set_title(\"Wind Speed vs Generated Power \")"
   ]
  },
  {
   "cell_type": "code",
   "execution_count": 11,
   "metadata": {},
   "outputs": [
    {
     "data": {
      "text/plain": [
       "<seaborn.axisgrid.PairGrid at 0x290c8ac4a60>"
      ]
     },
     "execution_count": 11,
     "metadata": {},
     "output_type": "execute_result"
    },
    {
     "data": {
      "image/png": "[encoded data removed]",
      "text/plain": [
       "<Figure size 360x360 with 6 Axes>"
      ]
     },
     "metadata": {},
     "output_type": "display_data"
    }
   ],
   "source": [
    "sns.pairplot(df)"
   ]
  },
  {
   "cell_type": "markdown",
   "metadata": {},
   "source": [
    "The above relationship plots are clearing indicating that there are some outliers in the dataset. As mentioned above, the values for power generated are 0 when the wind speed is up to 25 which indicates there was downtime either due to a known/unknown issue or maintenance. "
   ]
  },
  {
   "cell_type": "code",
   "execution_count": 12,
   "metadata": {},
   "outputs": [
    {
     "data": {
      "text/html": [
       "<div>\n",
       "<style scoped>\n",
       "    .dataframe tbody tr th:only-of-type {\n",
       "        vertical-align: middle;\n",
       "    }\n",
       "\n",
       "    .dataframe tbody tr th {\n",
       "        vertical-align: top;\n",
       "    }\n",
       "\n",
       "    .dataframe thead th {\n",
       "        text-align: right;\n",
       "    }\n",
       "</style>\n",
       "<table border=\"1\" class=\"dataframe\">\n",
       "  <thead>\n",
       "    <tr style=\"text-align: right;\">\n",
       "      <th></th>\n",
       "      <th>speed</th>\n",
       "      <th>power</th>\n",
       "    </tr>\n",
       "  </thead>\n",
       "  <tbody>\n",
       "    <tr>\n",
       "      <th>5</th>\n",
       "      <td>0.325</td>\n",
       "      <td>4.331</td>\n",
       "    </tr>\n",
       "    <tr>\n",
       "      <th>6</th>\n",
       "      <td>0.400</td>\n",
       "      <td>5.186</td>\n",
       "    </tr>\n",
       "    <tr>\n",
       "      <th>7</th>\n",
       "      <td>0.450</td>\n",
       "      <td>3.826</td>\n",
       "    </tr>\n",
       "    <tr>\n",
       "      <th>8</th>\n",
       "      <td>0.501</td>\n",
       "      <td>1.048</td>\n",
       "    </tr>\n",
       "    <tr>\n",
       "      <th>9</th>\n",
       "      <td>0.526</td>\n",
       "      <td>5.553</td>\n",
       "    </tr>\n",
       "    <tr>\n",
       "      <th>...</th>\n",
       "      <td>...</td>\n",
       "      <td>...</td>\n",
       "    </tr>\n",
       "    <tr>\n",
       "      <th>485</th>\n",
       "      <td>24.249</td>\n",
       "      <td>103.700</td>\n",
       "    </tr>\n",
       "    <tr>\n",
       "      <th>486</th>\n",
       "      <td>24.299</td>\n",
       "      <td>93.694</td>\n",
       "    </tr>\n",
       "    <tr>\n",
       "      <th>487</th>\n",
       "      <td>24.349</td>\n",
       "      <td>93.078</td>\n",
       "    </tr>\n",
       "    <tr>\n",
       "      <th>488</th>\n",
       "      <td>24.374</td>\n",
       "      <td>98.223</td>\n",
       "    </tr>\n",
       "    <tr>\n",
       "      <th>489</th>\n",
       "      <td>24.399</td>\n",
       "      <td>95.117</td>\n",
       "    </tr>\n",
       "  </tbody>\n",
       "</table>\n",
       "<p>451 rows × 2 columns</p>\n",
       "</div>"
      ],
      "text/plain": [
       "      speed    power\n",
       "5     0.325    4.331\n",
       "6     0.400    5.186\n",
       "7     0.450    3.826\n",
       "8     0.501    1.048\n",
       "9     0.526    5.553\n",
       "..      ...      ...\n",
       "485  24.249  103.700\n",
       "486  24.299   93.694\n",
       "487  24.349   93.078\n",
       "488  24.374   98.223\n",
       "489  24.399   95.117\n",
       "\n",
       "[451 rows x 2 columns]"
      ]
     },
     "execution_count": 12,
     "metadata": {},
     "output_type": "execute_result"
    }
   ],
   "source": [
    "# adapted from https://stackoverflow.com/questions/32067054/remove-rows-of-zeros-from-a-pandas-series\n",
    "# remove unexpected zeros from dataset as these will zeros will make our modelling less accurate\n",
    "# show values not equal 0\n",
    "zero_removed = df[(df[\"speed\"]!=0) & (df[\"power\"]!=0)]\n",
    "zero_removed\n"
   ]
  },
  {
   "cell_type": "code",
   "execution_count": 13,
   "metadata": {},
   "outputs": [],
   "source": [
    "# missing first zero of dataset\n",
    "#need to incorporate as it is correct - 0 wind speed will give 0 output\n",
    "zero_included = df[(df[\"speed\"]==0) & (df[\"power\"]==0)]\n",
    "#zero_included\n",
    "\n",
    "new_df = zero_included.append(zero_removed)\n",
    "dataset_clean = new_df #new dataframe with zero added at the start "
   ]
  },
  {
   "cell_type": "code",
   "execution_count": 14,
   "metadata": {},
   "outputs": [
    {
     "data": {
      "text/plain": [
       "Text(0.5, 1.0, 'Wind Speed vs Generated Power - Clean')"
      ]
     },
     "execution_count": 14,
     "metadata": {},
     "output_type": "execute_result"
    },
    {
     "data": {
      "image/png": "[encoded data removed]",
      "text/plain": [
       "<Figure size 432x288 with 1 Axes>"
      ]
     },
     "metadata": {},
     "output_type": "display_data"
    }
   ],
   "source": [
    "sns.set_style('whitegrid') \n",
    "reg = sns.regplot(x=\"speed\", y=\"power\",data=new_df)\n",
    "reg.set_title(\"Wind Speed vs Generated Power - Clean\")"
   ]
  },
  {
   "cell_type": "markdown",
   "metadata": {},
   "source": [
    "The unexpected zero results have now been removed from the dataset. You can see from both the plot and table above, the 0 datapoints have now been removed. "
   ]
  },
  {
   "cell_type": "markdown",
   "metadata": {},
   "source": [
    "## Linear Regression\n",
    "\n",
    "The powerproduction dataset is suitable for a regression model. Based on the plots above, it appears that a linear regression could work but may no tbe the best fit, possibly polynomial fit would be better. Linear regression is a linear approach to modelling the relationship between a scalar response and one or more explanatory variables (also known as dependent and independent variables). [4] Linear regression is a linear model, e.g. a model that assumes a linear relationship between the input variables (x) and the single output variable (y). Basically that y can be calculated from a linear combination of the input variables (x). [5] In this instance, wind speed in the (x) input and power the (y) output variable. "
   ]
  },
  {
   "cell_type": "code",
   "execution_count": 15,
   "metadata": {},
   "outputs": [],
   "source": [
    "#lecture - link to repo\n",
    "#create linear model instance\n",
    "# adapted from https://realpython.com/linear-regression-in-python/\n",
    "m = lm.LinearRegression()"
   ]
  },
  {
   "cell_type": "code",
   "execution_count": 16,
   "metadata": {},
   "outputs": [
    {
     "data": {
      "text/plain": [
       "LinearRegression()"
      ]
     },
     "execution_count": 16,
     "metadata": {},
     "output_type": "execute_result"
    }
   ],
   "source": [
    "#create x & y\n",
    "x = dataset_clean[\"speed\"]\n",
    "y = dataset_clean[\"power\"]\n",
    "\n",
    "# x must be 2 dimensional. .reshape(-1,1) changes x to 2 dimensional (single column)\n",
    "x = x.values.reshape(-1, 1)\n",
    "\n",
    "#model to fit data\n",
    "reg_model = m.fit(x,y)\n",
    "reg_model"
   ]
  },
  {
   "cell_type": "code",
   "execution_count": 17,
   "metadata": {},
   "outputs": [
    {
     "data": {
      "text/plain": [
       "-19.636232996770858"
      ]
     },
     "execution_count": 17,
     "metadata": {},
     "output_type": "execute_result"
    }
   ],
   "source": [
    "#intercept\n",
    "m.intercept_"
   ]
  },
  {
   "cell_type": "code",
   "execution_count": 18,
   "metadata": {},
   "outputs": [
    {
     "data": {
      "text/plain": [
       "array([5.60668469])"
      ]
     },
     "execution_count": 18,
     "metadata": {},
     "output_type": "execute_result"
    }
   ],
   "source": [
    "#coefficient\n",
    "m.coef_"
   ]
  },
  {
   "cell_type": "code",
   "execution_count": 19,
   "metadata": {},
   "outputs": [
    {
     "data": {
      "text/plain": [
       "0.8983450728341917"
      ]
     },
     "execution_count": 19,
     "metadata": {},
     "output_type": "execute_result"
    }
   ],
   "source": [
    "#how good is the model\n",
    "m.score(x,y)"
   ]
  },
  {
   "cell_type": "code",
   "execution_count": 20,
   "metadata": {},
   "outputs": [
    {
     "data": {
      "text/plain": [
       "array([-19.636233  , -17.81406047, -17.39355912, -17.11322489,\n",
       "       -16.82728397, -16.68711685, -16.54694973, -16.40678261,\n",
       "       -16.12644838, -15.84611415, -15.70594703, -15.14527856,\n",
       "       -15.00511144, -14.86494432, -14.44444297, -14.30427586,\n",
       "       -14.16410874, -14.02394162, -13.74360739, -13.46327315,\n",
       "       -13.18293892, -12.62227045, -12.48210333, -11.78126774,\n",
       "       -11.64110063, -11.21499259, -10.37398989, -10.09365565,\n",
       "        -9.11248583,  -8.97231871,  -7.43048042,  -7.15014619,\n",
       "        -6.16897637,  -5.74847502,  -5.32236698,  -5.18219986,\n",
       "        -4.48136428,  -3.78052869,  -3.64036157,  -3.0796931 ,\n",
       "        -2.79935887,  -2.65919175,  -2.51902463,  -2.37885752,\n",
       "        -1.67802193,  -0.69685211,  -0.55668499,  -0.41651787,\n",
       "         0.14975728,   0.57025863,   0.71042575,   1.1309271 ,\n",
       "         1.27109422,   2.25226404,   2.39243116,   2.53259827,\n",
       "         2.67276539,   3.79410233,   4.49493792,   4.63510503,\n",
       "         5.76204866,   5.90221577,   6.18255001,   6.88338559,\n",
       "         7.16371983,   7.86455542,   8.00472253,   8.14488965,\n",
       "         8.28505677,   8.565391  ,   8.84572524,   9.12605947,\n",
       "         9.40639371,   9.54656082,   9.82689506,   9.96706217,\n",
       "        10.10722929,  10.80806488,  10.948232  ,  11.23417291,\n",
       "        11.9350085 ,  12.21534274,  12.35550985,  12.49567697,\n",
       "        13.05634544,  13.47684679,  13.75718103,  13.89734814,\n",
       "        14.03751526,  14.17768238,  14.45801661,  14.59818373,\n",
       "        14.73835085,  14.87851796,  15.01868508,  15.29901932,\n",
       "        15.9998549 ,  16.28018914,  16.56052337,  16.70069049,\n",
       "        17.40713276,  17.82763411,  18.10796835,  18.24813546,\n",
       "        18.66863682,  19.50963952,  19.93014087,  20.07030799,\n",
       "        20.49080934,  20.63097646,  20.77114357,  20.91131069,\n",
       "        21.05147781,  21.33181204,  21.7523134 ,  21.89248051,\n",
       "        22.45875567,  22.7390899 ,  23.01942414,  23.15959125,\n",
       "        23.43992549,  23.58009261,  23.72025972,  24.14076107,\n",
       "        24.28092819,  24.42109531,  24.56126243,  24.70142954,\n",
       "        24.84159666,  25.40226513,  25.68259936,  25.9629336 ,\n",
       "        26.24326783,  26.38343495,  26.94410342,  27.50477189,\n",
       "        27.78510612,  28.21121416,  28.77188263,  28.91204975,\n",
       "        29.05221686,  29.47271822,  29.89321957,  30.03338669,\n",
       "        30.1735538 ,  30.59405515,  31.99572633,  32.27606056,\n",
       "        32.5563948 ,  33.25723038,  33.82350554,  33.96367265,\n",
       "        34.24400689,  34.94484247,  35.36534383,  35.50551094,\n",
       "        35.64567806,  35.78584518,  36.06617941,  36.20634653,\n",
       "        36.34651365,  36.62684788,  36.90718212,  37.04734923,\n",
       "        37.18751635,  37.32768347,  37.46785059,  37.6080177 ,\n",
       "        37.74818482,  37.88835194,  38.02851906,  38.44902041,\n",
       "        38.58918752,  39.14985599,  39.57596403,  40.1366325 ,\n",
       "        40.41696673,  40.55713385,  40.69730097,  41.39813655,\n",
       "        41.81863791,  41.95880502,  42.09897214,  42.23913926,\n",
       "        42.65964061,  42.93997485,  43.22030908,  43.64081043,\n",
       "        43.78097755,  43.92114467,  44.06131178,  44.2014789 ,\n",
       "        45.46858964,  45.74892388,  45.88909099,  46.16942523,\n",
       "        46.44975946,  46.58992658,  46.87026081,  47.29076217,\n",
       "        47.43092928,  47.5710964 ,  47.85143063,  48.55226622,\n",
       "        48.69243334,  48.83260046,  49.11293469,  49.25310181,\n",
       "        49.53343604,  49.67360316,  49.81377028,  49.95393739,\n",
       "        50.23427163,  50.37443875,  50.66037967,  50.80054678,\n",
       "        50.9407139 ,  51.08088102,  51.36121525,  51.64154949,\n",
       "        51.7817166 ,  52.06205084,  52.48255219,  52.62271931,\n",
       "        53.04322066,  53.18338778,  53.46372201,  54.72522607,\n",
       "        55.0055603 ,  55.14572742,  55.42606165,  55.70639589,\n",
       "        56.27267104,  56.41283816,  57.25384086,  57.39400798,\n",
       "        58.51534492,  58.65551204,  58.79567915,  58.93584627,\n",
       "        59.07601339,  59.63668186,  59.91701609,  60.33751744,\n",
       "        60.47768456,  60.75801879,  60.89818591,  61.03835303,\n",
       "        61.5990215 ,  61.88496242,  62.16529665,  62.30546377,\n",
       "        62.44563089,  62.86613224,  63.00629936,  63.14646647,\n",
       "        63.56696783,  63.70713494,  64.82847188,  65.10880612,\n",
       "        65.24897323,  65.38914035,  65.52930747,  65.66947458,\n",
       "        65.8096417 ,  65.94980882,  66.23014305,  66.37031017,\n",
       "        66.79081152,  67.07114576,  67.21131287,  67.49725379,\n",
       "        67.77758803,  68.19808938,  68.47842361,  68.61859073,\n",
       "        68.75875785,  69.03909208,  69.59976055,  70.0202619 ,\n",
       "        70.30059614,  70.44076326,  70.58093037,  71.14159884,\n",
       "        71.42193308,  71.70226731,  72.12276866,  72.54327002,\n",
       "        72.68343713,  73.24971229,  73.3898794 ,  73.53004652,\n",
       "        73.81038076,  73.95054787,  74.09071499,  74.51121634,\n",
       "        74.79155058,  75.21205193,  75.35221905,  75.49238616,\n",
       "        75.63255328,  75.7727204 ,  76.05305463,  76.33338887,\n",
       "        76.47355598,  77.17439157,  77.45472581,  77.59489292,\n",
       "        77.73506004,  78.01539428,  78.15556139,  78.29572851,\n",
       "        78.43589563,  78.58166943,  78.72183655,  78.86200366,\n",
       "        79.00217078,  79.1423379 ,  79.28250502,  80.12350772,\n",
       "        80.26367484,  80.40384195,  80.68417619,  81.52517889,\n",
       "        81.66534601,  81.80551313,  82.50634871,  82.78668295,\n",
       "        83.06701718,  83.34735142,  83.48751853,  83.62768565,\n",
       "        84.19396081,  84.33412792,  84.61446216,  84.75462927,\n",
       "        85.17513063,  85.45546486,  85.59563198,  85.7357991 ,\n",
       "        86.01613333,  86.15630045,  86.43663468,  86.5768018 ,\n",
       "        86.85713603,  87.13747027,  87.27763739,  87.4178045 ,\n",
       "        87.83830585,  87.97847297,  88.39897432,  89.38014414,\n",
       "        89.9464193 ,  90.08658642,  90.22675353,  90.36692065,\n",
       "        90.50708777,  90.64725488,  90.787422  ,  90.92758912,\n",
       "        91.20792335,  91.34809047,  91.48825759,  91.62842471,\n",
       "        91.90875894,  92.18909318,  92.32926029,  92.74976164,\n",
       "        93.170263  ,  93.31043011,  93.45059723,  93.73093147,\n",
       "        94.0112657 ,  94.15143282,  94.29159993,  94.43176705,\n",
       "        95.13260264,  95.41854356,  95.69887779,  96.11937914,\n",
       "        96.25954626,  96.82021473,  96.96038185,  97.3808832 ,\n",
       "        98.36205302,  98.50222014,  98.78255437,  99.90389131,\n",
       "       100.32439266, 100.46455978, 100.6047269 , 100.74489401,\n",
       "       100.88506113, 101.5915034 , 101.87183764, 102.15217187,\n",
       "       102.71284034, 102.85300746, 103.27350881, 103.83417728,\n",
       "       104.11451151, 104.53501287, 104.95551422, 105.09568133,\n",
       "       105.23584845, 105.37601557, 105.51618269, 105.6563498 ,\n",
       "       106.07685116, 106.35718539, 106.49735251, 106.64312631,\n",
       "       107.20379478, 107.48412901, 107.76446325, 108.04479748,\n",
       "       108.1849646 , 108.32513172, 108.60546595, 109.44646866,\n",
       "       110.00713712, 110.56780559, 110.70797271, 110.84813983,\n",
       "       110.98830695, 111.12847406, 111.26864118, 111.4088083 ,\n",
       "       111.68914253, 111.96947677, 112.10964388, 112.3955848 ,\n",
       "       112.53575192, 112.67591904, 112.81608616, 113.23658751,\n",
       "       113.37675462, 113.79725598, 113.93742309, 114.07759021,\n",
       "       114.35792445, 114.63825868, 114.7784258 , 115.05876003,\n",
       "       115.19892715, 115.89976274, 116.03992985, 116.32026409,\n",
       "       116.60059832, 116.88093256, 117.02109967, 117.16126679])"
      ]
     },
     "execution_count": 20,
     "metadata": {},
     "output_type": "execute_result"
    }
   ],
   "source": [
    "#predict\n",
    "predict = reg_model.predict(x)\n",
    "predict"
   ]
  },
  {
   "cell_type": "code",
   "execution_count": 43,
   "metadata": {},
   "outputs": [
    {
     "data": {
      "text/plain": [
       "array([-19.636233  , -17.81406047, -17.39355912, -17.11322489,\n",
       "       -16.82728397, -16.68711685, -16.54694973, -16.40678261,\n",
       "       -16.12644838, -15.84611415, -15.70594703, -15.14527856,\n",
       "       -15.00511144, -14.86494432, -14.44444297, -14.30427586,\n",
       "       -14.16410874, -14.02394162, -13.74360739, -13.46327315,\n",
       "       -13.18293892, -12.62227045, -12.48210333, -11.78126774,\n",
       "       -11.64110063, -11.21499259, -10.37398989, -10.09365565,\n",
       "        -9.11248583,  -8.97231871,  -7.43048042,  -7.15014619,\n",
       "        -6.16897637,  -5.74847502,  -5.32236698,  -5.18219986,\n",
       "        -4.48136428,  -3.78052869,  -3.64036157,  -3.0796931 ,\n",
       "        -2.79935887,  -2.65919175,  -2.51902463,  -2.37885752,\n",
       "        -1.67802193,  -0.69685211,  -0.55668499,  -0.41651787,\n",
       "         0.14975728,   0.57025863,   0.71042575,   1.1309271 ,\n",
       "         1.27109422,   2.25226404,   2.39243116,   2.53259827,\n",
       "         2.67276539,   3.79410233,   4.49493792,   4.63510503,\n",
       "         5.76204866,   5.90221577,   6.18255001,   6.88338559,\n",
       "         7.16371983,   7.86455542,   8.00472253,   8.14488965,\n",
       "         8.28505677,   8.565391  ,   8.84572524,   9.12605947,\n",
       "         9.40639371,   9.54656082,   9.82689506,   9.96706217,\n",
       "        10.10722929,  10.80806488,  10.948232  ,  11.23417291,\n",
       "        11.9350085 ,  12.21534274,  12.35550985,  12.49567697,\n",
       "        13.05634544,  13.47684679,  13.75718103,  13.89734814,\n",
       "        14.03751526,  14.17768238,  14.45801661,  14.59818373,\n",
       "        14.73835085,  14.87851796,  15.01868508,  15.29901932,\n",
       "        15.9998549 ,  16.28018914,  16.56052337,  16.70069049,\n",
       "        17.40713276,  17.82763411,  18.10796835,  18.24813546,\n",
       "        18.66863682,  19.50963952,  19.93014087,  20.07030799,\n",
       "        20.49080934,  20.63097646,  20.77114357,  20.91131069,\n",
       "        21.05147781,  21.33181204,  21.7523134 ,  21.89248051,\n",
       "        22.45875567,  22.7390899 ,  23.01942414,  23.15959125,\n",
       "        23.43992549,  23.58009261,  23.72025972,  24.14076107,\n",
       "        24.28092819,  24.42109531,  24.56126243,  24.70142954,\n",
       "        24.84159666,  25.40226513,  25.68259936,  25.9629336 ,\n",
       "        26.24326783,  26.38343495,  26.94410342,  27.50477189,\n",
       "        27.78510612,  28.21121416,  28.77188263,  28.91204975,\n",
       "        29.05221686,  29.47271822,  29.89321957,  30.03338669,\n",
       "        30.1735538 ,  30.59405515,  31.99572633,  32.27606056,\n",
       "        32.5563948 ,  33.25723038,  33.82350554,  33.96367265,\n",
       "        34.24400689,  34.94484247,  35.36534383,  35.50551094,\n",
       "        35.64567806,  35.78584518,  36.06617941,  36.20634653,\n",
       "        36.34651365,  36.62684788,  36.90718212,  37.04734923,\n",
       "        37.18751635,  37.32768347,  37.46785059,  37.6080177 ,\n",
       "        37.74818482,  37.88835194,  38.02851906,  38.44902041,\n",
       "        38.58918752,  39.14985599,  39.57596403,  40.1366325 ,\n",
       "        40.41696673,  40.55713385,  40.69730097,  41.39813655,\n",
       "        41.81863791,  41.95880502,  42.09897214,  42.23913926,\n",
       "        42.65964061,  42.93997485,  43.22030908,  43.64081043,\n",
       "        43.78097755,  43.92114467,  44.06131178,  44.2014789 ,\n",
       "        45.46858964,  45.74892388,  45.88909099,  46.16942523,\n",
       "        46.44975946,  46.58992658,  46.87026081,  47.29076217,\n",
       "        47.43092928,  47.5710964 ,  47.85143063,  48.55226622,\n",
       "        48.69243334,  48.83260046,  49.11293469,  49.25310181,\n",
       "        49.53343604,  49.67360316,  49.81377028,  49.95393739,\n",
       "        50.23427163,  50.37443875,  50.66037967,  50.80054678,\n",
       "        50.9407139 ,  51.08088102,  51.36121525,  51.64154949,\n",
       "        51.7817166 ,  52.06205084,  52.48255219,  52.62271931,\n",
       "        53.04322066,  53.18338778,  53.46372201,  54.72522607,\n",
       "        55.0055603 ,  55.14572742,  55.42606165,  55.70639589,\n",
       "        56.27267104,  56.41283816,  57.25384086,  57.39400798,\n",
       "        58.51534492,  58.65551204,  58.79567915,  58.93584627,\n",
       "        59.07601339,  59.63668186,  59.91701609,  60.33751744,\n",
       "        60.47768456,  60.75801879,  60.89818591,  61.03835303,\n",
       "        61.5990215 ,  61.88496242,  62.16529665,  62.30546377,\n",
       "        62.44563089,  62.86613224,  63.00629936,  63.14646647,\n",
       "        63.56696783,  63.70713494,  64.82847188,  65.10880612,\n",
       "        65.24897323,  65.38914035,  65.52930747,  65.66947458,\n",
       "        65.8096417 ,  65.94980882,  66.23014305,  66.37031017,\n",
       "        66.79081152,  67.07114576,  67.21131287,  67.49725379,\n",
       "        67.77758803,  68.19808938,  68.47842361,  68.61859073,\n",
       "        68.75875785,  69.03909208,  69.59976055,  70.0202619 ,\n",
       "        70.30059614,  70.44076326,  70.58093037,  71.14159884,\n",
       "        71.42193308,  71.70226731,  72.12276866,  72.54327002,\n",
       "        72.68343713,  73.24971229,  73.3898794 ,  73.53004652,\n",
       "        73.81038076,  73.95054787,  74.09071499,  74.51121634,\n",
       "        74.79155058,  75.21205193,  75.35221905,  75.49238616,\n",
       "        75.63255328,  75.7727204 ,  76.05305463,  76.33338887,\n",
       "        76.47355598,  77.17439157,  77.45472581,  77.59489292,\n",
       "        77.73506004,  78.01539428,  78.15556139,  78.29572851,\n",
       "        78.43589563,  78.58166943,  78.72183655,  78.86200366,\n",
       "        79.00217078,  79.1423379 ,  79.28250502,  80.12350772,\n",
       "        80.26367484,  80.40384195,  80.68417619,  81.52517889,\n",
       "        81.66534601,  81.80551313,  82.50634871,  82.78668295,\n",
       "        83.06701718,  83.34735142,  83.48751853,  83.62768565,\n",
       "        84.19396081,  84.33412792,  84.61446216,  84.75462927,\n",
       "        85.17513063,  85.45546486,  85.59563198,  85.7357991 ,\n",
       "        86.01613333,  86.15630045,  86.43663468,  86.5768018 ,\n",
       "        86.85713603,  87.13747027,  87.27763739,  87.4178045 ,\n",
       "        87.83830585,  87.97847297,  88.39897432,  89.38014414,\n",
       "        89.9464193 ,  90.08658642,  90.22675353,  90.36692065,\n",
       "        90.50708777,  90.64725488,  90.787422  ,  90.92758912,\n",
       "        91.20792335,  91.34809047,  91.48825759,  91.62842471,\n",
       "        91.90875894,  92.18909318,  92.32926029,  92.74976164,\n",
       "        93.170263  ,  93.31043011,  93.45059723,  93.73093147,\n",
       "        94.0112657 ,  94.15143282,  94.29159993,  94.43176705,\n",
       "        95.13260264,  95.41854356,  95.69887779,  96.11937914,\n",
       "        96.25954626,  96.82021473,  96.96038185,  97.3808832 ,\n",
       "        98.36205302,  98.50222014,  98.78255437,  99.90389131,\n",
       "       100.32439266, 100.46455978, 100.6047269 , 100.74489401,\n",
       "       100.88506113, 101.5915034 , 101.87183764, 102.15217187,\n",
       "       102.71284034, 102.85300746, 103.27350881, 103.83417728,\n",
       "       104.11451151, 104.53501287, 104.95551422, 105.09568133,\n",
       "       105.23584845, 105.37601557, 105.51618269, 105.6563498 ,\n",
       "       106.07685116, 106.35718539, 106.49735251, 106.64312631,\n",
       "       107.20379478, 107.48412901, 107.76446325, 108.04479748,\n",
       "       108.1849646 , 108.32513172, 108.60546595, 109.44646866,\n",
       "       110.00713712, 110.56780559, 110.70797271, 110.84813983,\n",
       "       110.98830695, 111.12847406, 111.26864118, 111.4088083 ,\n",
       "       111.68914253, 111.96947677, 112.10964388, 112.3955848 ,\n",
       "       112.53575192, 112.67591904, 112.81608616, 113.23658751,\n",
       "       113.37675462, 113.79725598, 113.93742309, 114.07759021,\n",
       "       114.35792445, 114.63825868, 114.7784258 , 115.05876003,\n",
       "       115.19892715, 115.89976274, 116.03992985, 116.32026409,\n",
       "       116.60059832, 116.88093256, 117.02109967, 117.16126679])"
      ]
     },
     "execution_count": 43,
     "metadata": {},
     "output_type": "execute_result"
    }
   ],
   "source": [
    "#get y predict calculated manually\n",
    "pred = m.intercept_ + m.coef_ * x\n",
    "pred"
   ]
  },
  {
   "cell_type": "code",
   "execution_count": 22,
   "metadata": {},
   "outputs": [
    {
     "data": {
      "image/png": "[encoded data removed]",
      "text/plain": [
       "<Figure size 432x288 with 1 Axes>"
      ]
     },
     "metadata": {},
     "output_type": "display_data"
    }
   ],
   "source": [
    "#link to repo lecture notes\n",
    "x = dataset_clean[\"speed\"].to_numpy()\n",
    "y = dataset_clean[\"power\"].to_numpy()\n",
    "\n",
    "a,b,c = np.polyfit(x,y,2)\n",
    "plt.plot(x, y, 'k.')\n",
    "plt.plot(x, a * x * x + b * x  +  c , 'b-');"
   ]
  },
  {
   "cell_type": "code",
   "execution_count": 48,
   "metadata": {},
   "outputs": [
    {
     "data": {
      "text/html": [
       "<div>\n",
       "<style scoped>\n",
       "    .dataframe tbody tr th:only-of-type {\n",
       "        vertical-align: middle;\n",
       "    }\n",
       "\n",
       "    .dataframe tbody tr th {\n",
       "        vertical-align: top;\n",
       "    }\n",
       "\n",
       "    .dataframe thead th {\n",
       "        text-align: right;\n",
       "    }\n",
       "</style>\n",
       "<table border=\"1\" class=\"dataframe\">\n",
       "  <thead>\n",
       "    <tr style=\"text-align: right;\">\n",
       "      <th></th>\n",
       "      <th>Actual Power</th>\n",
       "      <th>Predicted Power</th>\n",
       "    </tr>\n",
       "  </thead>\n",
       "  <tbody>\n",
       "    <tr>\n",
       "      <th>0</th>\n",
       "      <td>0.000</td>\n",
       "      <td>-19.636233</td>\n",
       "    </tr>\n",
       "    <tr>\n",
       "      <th>1</th>\n",
       "      <td>4.331</td>\n",
       "      <td>-17.814060</td>\n",
       "    </tr>\n",
       "    <tr>\n",
       "      <th>2</th>\n",
       "      <td>5.186</td>\n",
       "      <td>-17.393559</td>\n",
       "    </tr>\n",
       "    <tr>\n",
       "      <th>3</th>\n",
       "      <td>3.826</td>\n",
       "      <td>-17.113225</td>\n",
       "    </tr>\n",
       "    <tr>\n",
       "      <th>4</th>\n",
       "      <td>1.048</td>\n",
       "      <td>-16.827284</td>\n",
       "    </tr>\n",
       "    <tr>\n",
       "      <th>...</th>\n",
       "      <td>...</td>\n",
       "      <td>...</td>\n",
       "    </tr>\n",
       "    <tr>\n",
       "      <th>447</th>\n",
       "      <td>103.700</td>\n",
       "      <td>116.320264</td>\n",
       "    </tr>\n",
       "    <tr>\n",
       "      <th>448</th>\n",
       "      <td>93.694</td>\n",
       "      <td>116.600598</td>\n",
       "    </tr>\n",
       "    <tr>\n",
       "      <th>449</th>\n",
       "      <td>93.078</td>\n",
       "      <td>116.880933</td>\n",
       "    </tr>\n",
       "    <tr>\n",
       "      <th>450</th>\n",
       "      <td>98.223</td>\n",
       "      <td>117.021100</td>\n",
       "    </tr>\n",
       "    <tr>\n",
       "      <th>451</th>\n",
       "      <td>95.117</td>\n",
       "      <td>117.161267</td>\n",
       "    </tr>\n",
       "  </tbody>\n",
       "</table>\n",
       "<p>452 rows × 2 columns</p>\n",
       "</div>"
      ],
      "text/plain": [
       "     Actual Power  Predicted Power\n",
       "0           0.000       -19.636233\n",
       "1           4.331       -17.814060\n",
       "2           5.186       -17.393559\n",
       "3           3.826       -17.113225\n",
       "4           1.048       -16.827284\n",
       "..            ...              ...\n",
       "447       103.700       116.320264\n",
       "448        93.694       116.600598\n",
       "449        93.078       116.880933\n",
       "450        98.223       117.021100\n",
       "451        95.117       117.161267\n",
       "\n",
       "[452 rows x 2 columns]"
      ]
     },
     "execution_count": 48,
     "metadata": {},
     "output_type": "execute_result"
    }
   ],
   "source": [
    "# compare actual vs predicted power\n",
    "compare = pd.DataFrame({'Actual Power': y, 'Predicted Power': predict})\n",
    "compare"
   ]
  },
  {
   "cell_type": "markdown",
   "metadata": {},
   "source": [
    "### References\n",
    "\n",
    "1. https://github.com/kevindooley/fundamentals-data-analysis-project/blob/master/tips_dataset.ipynb\n",
    "2. https://seaborn.pydata.org/generated/seaborn.relplot.html\n",
    "3. https://stackoverflow.com/questions/32067054/remove-rows-of-zeros-from-a-pandas-series\n",
    "4. wiki\n",
    "5. https://machinelearningmastery.com/linear-regression-for-machine-learning/\n",
    "6. https://realpython.com/linear-regression-in-python/"
   ]
  },
  {
   "cell_type": "code",
   "execution_count": null,
   "metadata": {},
   "outputs": [],
   "source": []
  }
 ],
 "metadata": {
  "kernelspec": {
   "display_name": "Python 3",
   "language": "python",
   "name": "python3"
  },
  "language_info": {
   "codemirror_mode": {
    "name": "ipython",
    "version": 3
   },
   "file_extension": ".py",
   "mimetype": "text/x-python",
   "name": "python",
   "nbconvert_exporter": "python",
   "pygments_lexer": "ipython3",
   "version": "3.8.3"
  }
 },
 "nbformat": 4,
 "nbformat_minor": 4
}
